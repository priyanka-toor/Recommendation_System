{
 "cells": [
  {
   "cell_type": "code",
   "execution_count": 1,
   "id": "4552729a",
   "metadata": {},
   "outputs": [
    {
     "name": "stdout",
     "output_type": "stream",
     "text": [
      "<class 'pandas.core.frame.DataFrame'>\n",
      "RangeIndex: 541909 entries, 0 to 541908\n",
      "Data columns (total 8 columns):\n",
      " #   Column       Non-Null Count   Dtype         \n",
      "---  ------       --------------   -----         \n",
      " 0   InvoiceNo    541909 non-null  object        \n",
      " 1   StockCode    541909 non-null  object        \n",
      " 2   Description  540455 non-null  object        \n",
      " 3   Quantity     541909 non-null  int64         \n",
      " 4   InvoiceDate  541909 non-null  datetime64[ns]\n",
      " 5   UnitPrice    541909 non-null  float64       \n",
      " 6   CustomerID   406829 non-null  float64       \n",
      " 7   Country      541909 non-null  object        \n",
      "dtypes: datetime64[ns](1), float64(2), int64(1), object(4)\n",
      "memory usage: 33.1+ MB\n"
     ]
    }
   ],
   "source": [
    "import pandas as pd\n",
    "data=pd.read_excel(\"Online Retail.xlsx\")\n",
    "data.info()"
   ]
  },
  {
   "cell_type": "code",
   "execution_count": 2,
   "id": "9b608d5e",
   "metadata": {},
   "outputs": [
    {
     "name": "stdout",
     "output_type": "stream",
     "text": [
      "       InvoiceNo StockCode                        Description  Quantity  \\\n",
      "320705    565080     20677                 PINK POLKADOT BOWL         8   \n",
      "320706    565080     22128         PARTY CONES CANDY ASSORTED        24   \n",
      "320707    565081     21067                                NaN         1   \n",
      "320708    565082     22423           REGENCY CAKESTAND 3 TIER         2   \n",
      "320709    565082    15060B         FAIRY CAKE DESIGN UMBRELLA         8   \n",
      "...          ...       ...                                ...       ...   \n",
      "512925    579520     22229  BUNNY WOODEN PAINTED WITH FLOWER          1   \n",
      "512926    579520     23344          JUMBO BAG 50'S CHRISTMAS          1   \n",
      "512927   C579521     22307   GOLD MUG BONE CHINA TREE OF LIFE        -6   \n",
      "512928   C579521     21843           RED RETROSPOT CAKE STAND        -1   \n",
      "512929   C579521     22840         ROUND CAKE TIN VINTAGE RED        -1   \n",
      "\n",
      "               InvoiceDate  UnitPrice  CustomerID         Country  \n",
      "320705 2011-09-01 08:25:00       1.25     13509.0  United Kingdom  \n",
      "320706 2011-09-01 08:25:00       1.25     13509.0  United Kingdom  \n",
      "320707 2011-09-01 09:03:00       0.00         NaN  United Kingdom  \n",
      "320708 2011-09-01 09:15:00      12.75     13305.0  United Kingdom  \n",
      "320709 2011-09-01 09:15:00       3.75     13305.0  United Kingdom  \n",
      "...                    ...        ...         ...             ...  \n",
      "512925 2011-11-29 18:14:00       0.39     12748.0  United Kingdom  \n",
      "512926 2011-11-29 18:14:00       2.08     12748.0  United Kingdom  \n",
      "512927 2011-11-29 18:19:00       1.06     12748.0  United Kingdom  \n",
      "512928 2011-11-29 18:19:00      10.95     12748.0  United Kingdom  \n",
      "512929 2011-11-29 18:19:00       7.95     12748.0  United Kingdom  \n",
      "\n",
      "[192225 rows x 8 columns]\n"
     ]
    }
   ],
   "source": [
    "data['InvoiceDate'] = pd.to_datetime(data['InvoiceDate'])\n",
    "\n",
    "start_date = '2011-09-01'\n",
    "end_date = '2011-11-30'\n",
    "\n",
    "subset_data = data[(data['InvoiceDate'] >= start_date) & (data['InvoiceDate'] <= end_date)]\n",
    "print(subset_data)\n"
   ]
  },
  {
   "cell_type": "code",
   "execution_count": null,
   "id": "775e3403",
   "metadata": {},
   "outputs": [],
   "source": [
    "filtered_data = transactions[(transactions['InvoiceDate'] >= start_date) & (transactions['InvoiceDate'] <= end_date)]\n",
    "\n",
    "# Group transactions by InvoiceNo and aggregate StockCodes as a list\n",
    "invoice_data = filtered_transactions.groupby('InvoiceNo')['StockCode'].apply(list).reset_index()\n",
    "\n",
    "# Rename the columns to match the desired output\n",
    "invoice_data.columns = ['InvoiceNo', 'StockCodes']\n",
    "\n",
    "# Print the resulting DataFrame\n",
    "print(invoice_data)"
   ]
  }
 ],
 "metadata": {
  "kernelspec": {
   "display_name": "Python 3 (ipykernel)",
   "language": "python",
   "name": "python3"
  },
  "language_info": {
   "codemirror_mode": {
    "name": "ipython",
    "version": 3
   },
   "file_extension": ".py",
   "mimetype": "text/x-python",
   "name": "python",
   "nbconvert_exporter": "python",
   "pygments_lexer": "ipython3",
   "version": "3.11.3"
  }
 },
 "nbformat": 4,
 "nbformat_minor": 5
}
